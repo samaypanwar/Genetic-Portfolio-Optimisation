{
 "cells": [
  {
   "cell_type": "code",
   "execution_count": 2,
   "id": "1b48ac7e",
   "metadata": {},
   "outputs": [],
   "source": [
    "from GaOpt.genetic import GeneticAlgorithm\n",
    "from GaOpt.utils import sharpe, sortino, calmar, hybrid\n",
    "import yfinance as yfin\n",
    "from quant_risk.statistics.summarize import print_summary\n",
    "from GaOpt.portfolio import backtest\n",
    "import pandas as pd\n",
    "\n",
    "%load_ext autoreload\n",
    "%autoreload 2\n",
    "# %%"
   ]
  },
  {
   "cell_type": "code",
   "execution_count": 3,
   "id": "d571736a",
   "metadata": {},
   "outputs": [
    {
     "name": "stdout",
     "output_type": "stream",
     "text": [
      "[*********************100%***********************]  5 of 5 completed\n"
     ]
    }
   ],
   "source": [
    "\n",
    "tickers = [\n",
    "#     'TSLA',\n",
    "#     'ETSY',\n",
    "    'NVDA',\n",
    "#     'PYPL',\n",
    "    'LB',\n",
    "    'ALB',\n",
    "    'FCX',\n",
    "#     'NOW',\n",
    "    'ROL'\n",
    "]\n",
    "\n",
    "dataframe = yfin.download(tickers, period='1y')['Adj Close']\n"
   ]
  },
  {
   "cell_type": "code",
   "execution_count": 4,
   "id": "9bbca66f",
   "metadata": {},
   "outputs": [],
   "source": [
    "\n",
    "GA = GeneticAlgorithm(hybrid, dataframe, longOnly=True)\n",
    "bestWeights = GA.evolution()\n"
   ]
  },
  {
   "cell_type": "code",
   "execution_count": 217,
   "id": "17192dd3",
   "metadata": {},
   "outputs": [
    {
     "name": "stdout",
     "output_type": "stream",
     "text": [
      "[0.07943422 0.12373361 0.74734787 0.01596593 0.03351836]\n"
     ]
    }
   ],
   "source": [
    "print(bestWeights)"
   ]
  },
  {
   "cell_type": "code",
   "execution_count": 218,
   "id": "10e3e96e",
   "metadata": {},
   "outputs": [
    {
     "data": {
      "text/plain": [
       "1.0000000000000002"
      ]
     },
     "execution_count": 218,
     "metadata": {},
     "output_type": "execute_result"
    }
   ],
   "source": [
    "sum(bestWeights)"
   ]
  },
  {
   "cell_type": "code",
   "execution_count": 222,
   "id": "40b2e53e",
   "metadata": {},
   "outputs": [
    {
     "data": {
      "text/html": [
       "<div>\n",
       "<style scoped>\n",
       "    .dataframe tbody tr th:only-of-type {\n",
       "        vertical-align: middle;\n",
       "    }\n",
       "\n",
       "    .dataframe tbody tr th {\n",
       "        vertical-align: top;\n",
       "    }\n",
       "\n",
       "    .dataframe thead th {\n",
       "        text-align: right;\n",
       "    }\n",
       "</style>\n",
       "<table border=\"1\" class=\"dataframe\">\n",
       "  <thead>\n",
       "    <tr style=\"text-align: right;\">\n",
       "      <th></th>\n",
       "      <th>0</th>\n",
       "    </tr>\n",
       "  </thead>\n",
       "  <tbody>\n",
       "    <tr>\n",
       "      <th>sharpe_ratio</th>\n",
       "      <td>5.247793</td>\n",
       "    </tr>\n",
       "    <tr>\n",
       "      <th>calmar_ratio</th>\n",
       "      <td>-13.722423</td>\n",
       "    </tr>\n",
       "    <tr>\n",
       "      <th>omega_ratio</th>\n",
       "      <td>1.722285</td>\n",
       "    </tr>\n",
       "    <tr>\n",
       "      <th>sortino_ratio</th>\n",
       "      <td>5.794446</td>\n",
       "    </tr>\n",
       "    <tr>\n",
       "      <th>tail_ratio</th>\n",
       "      <td>1.570450</td>\n",
       "    </tr>\n",
       "    <tr>\n",
       "      <th>annualised_returns</th>\n",
       "      <td>2.237028</td>\n",
       "    </tr>\n",
       "    <tr>\n",
       "      <th>annualised_volatility</th>\n",
       "      <td>0.426280</td>\n",
       "    </tr>\n",
       "    <tr>\n",
       "      <th>calculate_skewness</th>\n",
       "      <td>0.017099</td>\n",
       "    </tr>\n",
       "    <tr>\n",
       "      <th>calculate_kurtosis</th>\n",
       "      <td>-1.392114</td>\n",
       "    </tr>\n",
       "    <tr>\n",
       "      <th>is_stable</th>\n",
       "      <td>0.964827</td>\n",
       "    </tr>\n",
       "    <tr>\n",
       "      <th>maximum_drawdown</th>\n",
       "      <td>-0.163020</td>\n",
       "    </tr>\n",
       "    <tr>\n",
       "      <th>cumulative_returns</th>\n",
       "      <td>2.221974</td>\n",
       "    </tr>\n",
       "    <tr>\n",
       "      <th>conditional_value_at_risk</th>\n",
       "      <td>-0.042702</td>\n",
       "    </tr>\n",
       "    <tr>\n",
       "      <th>value_at_risk</th>\n",
       "      <td>-0.028580</td>\n",
       "    </tr>\n",
       "  </tbody>\n",
       "</table>\n",
       "</div>"
      ],
      "text/plain": [
       "                                   0\n",
       "sharpe_ratio                5.247793\n",
       "calmar_ratio              -13.722423\n",
       "omega_ratio                 1.722285\n",
       "sortino_ratio               5.794446\n",
       "tail_ratio                  1.570450\n",
       "annualised_returns          2.237028\n",
       "annualised_volatility       0.426280\n",
       "calculate_skewness          0.017099\n",
       "calculate_kurtosis         -1.392114\n",
       "is_stable                   0.964827\n",
       "maximum_drawdown           -0.163020\n",
       "cumulative_returns          2.221974\n",
       "conditional_value_at_risk  -0.042702\n",
       "value_at_risk              -0.028580"
      ]
     },
     "execution_count": 222,
     "metadata": {},
     "output_type": "execute_result"
    }
   ],
   "source": [
    "print_summary(pd.DataFrame((dataframe*bestWeights).sum(axis=1)))"
   ]
  },
  {
   "cell_type": "code",
   "execution_count": 226,
   "id": "5eaae0b0",
   "metadata": {
    "scrolled": false
   },
   "outputs": [
    {
     "data": {
      "text/html": [
       "<div>\n",
       "<style scoped>\n",
       "    .dataframe tbody tr th:only-of-type {\n",
       "        vertical-align: middle;\n",
       "    }\n",
       "\n",
       "    .dataframe tbody tr th {\n",
       "        vertical-align: top;\n",
       "    }\n",
       "\n",
       "    .dataframe thead th {\n",
       "        text-align: right;\n",
       "    }\n",
       "</style>\n",
       "<table border=\"1\" class=\"dataframe\">\n",
       "  <thead>\n",
       "    <tr style=\"text-align: right;\">\n",
       "      <th></th>\n",
       "      <th>0</th>\n",
       "    </tr>\n",
       "    <tr>\n",
       "      <th>Date</th>\n",
       "      <th></th>\n",
       "    </tr>\n",
       "  </thead>\n",
       "  <tbody>\n",
       "    <tr>\n",
       "      <th>2020-07-24</th>\n",
       "      <td>1.000000</td>\n",
       "    </tr>\n",
       "    <tr>\n",
       "      <th>2020-07-27</th>\n",
       "      <td>0.999308</td>\n",
       "    </tr>\n",
       "    <tr>\n",
       "      <th>2020-07-28</th>\n",
       "      <td>0.988462</td>\n",
       "    </tr>\n",
       "    <tr>\n",
       "      <th>2020-07-29</th>\n",
       "      <td>1.190808</td>\n",
       "    </tr>\n",
       "    <tr>\n",
       "      <th>2020-07-30</th>\n",
       "      <td>1.148528</td>\n",
       "    </tr>\n",
       "    <tr>\n",
       "      <th>...</th>\n",
       "      <td>...</td>\n",
       "    </tr>\n",
       "    <tr>\n",
       "      <th>2021-07-19</th>\n",
       "      <td>2.933326</td>\n",
       "    </tr>\n",
       "    <tr>\n",
       "      <th>2021-07-20</th>\n",
       "      <td>3.095237</td>\n",
       "    </tr>\n",
       "    <tr>\n",
       "      <th>2021-07-21</th>\n",
       "      <td>3.156022</td>\n",
       "    </tr>\n",
       "    <tr>\n",
       "      <th>2021-07-22</th>\n",
       "      <td>3.183459</td>\n",
       "    </tr>\n",
       "    <tr>\n",
       "      <th>2021-07-23</th>\n",
       "      <td>3.221974</td>\n",
       "    </tr>\n",
       "  </tbody>\n",
       "</table>\n",
       "<p>252 rows × 1 columns</p>\n",
       "</div>"
      ],
      "text/plain": [
       "                   0\n",
       "Date                \n",
       "2020-07-24  1.000000\n",
       "2020-07-27  0.999308\n",
       "2020-07-28  0.988462\n",
       "2020-07-29  1.190808\n",
       "2020-07-30  1.148528\n",
       "...              ...\n",
       "2021-07-19  2.933326\n",
       "2021-07-20  3.095237\n",
       "2021-07-21  3.156022\n",
       "2021-07-22  3.183459\n",
       "2021-07-23  3.221974\n",
       "\n",
       "[252 rows x 1 columns]"
      ]
     },
     "execution_count": 226,
     "metadata": {},
     "output_type": "execute_result"
    }
   ],
   "source": [
    "portfolio = pd.DataFrame((dataframe*bestWeights).sum(axis=1) / (dataframe*bestWeights).sum(axis=1).iloc[0])\n",
    "portfolio"
   ]
  },
  {
   "cell_type": "code",
   "execution_count": 227,
   "id": "87d5b397",
   "metadata": {},
   "outputs": [
    {
     "data": {
      "text/html": [
       "<div>\n",
       "<style scoped>\n",
       "    .dataframe tbody tr th:only-of-type {\n",
       "        vertical-align: middle;\n",
       "    }\n",
       "\n",
       "    .dataframe tbody tr th {\n",
       "        vertical-align: top;\n",
       "    }\n",
       "\n",
       "    .dataframe thead th {\n",
       "        text-align: right;\n",
       "    }\n",
       "</style>\n",
       "<table border=\"1\" class=\"dataframe\">\n",
       "  <thead>\n",
       "    <tr style=\"text-align: right;\">\n",
       "      <th></th>\n",
       "      <th>0</th>\n",
       "    </tr>\n",
       "    <tr>\n",
       "      <th>Date</th>\n",
       "      <th></th>\n",
       "    </tr>\n",
       "  </thead>\n",
       "  <tbody>\n",
       "    <tr>\n",
       "      <th>2020-07-24</th>\n",
       "      <td>3.221974</td>\n",
       "    </tr>\n",
       "    <tr>\n",
       "      <th>2020-07-27</th>\n",
       "      <td>3.219744</td>\n",
       "    </tr>\n",
       "    <tr>\n",
       "      <th>2020-07-28</th>\n",
       "      <td>3.184798</td>\n",
       "    </tr>\n",
       "    <tr>\n",
       "      <th>2020-07-29</th>\n",
       "      <td>3.836752</td>\n",
       "    </tr>\n",
       "    <tr>\n",
       "      <th>2020-07-30</th>\n",
       "      <td>3.700526</td>\n",
       "    </tr>\n",
       "    <tr>\n",
       "      <th>...</th>\n",
       "      <td>...</td>\n",
       "    </tr>\n",
       "    <tr>\n",
       "      <th>2021-07-19</th>\n",
       "      <td>9.451102</td>\n",
       "    </tr>\n",
       "    <tr>\n",
       "      <th>2021-07-20</th>\n",
       "      <td>9.972774</td>\n",
       "    </tr>\n",
       "    <tr>\n",
       "      <th>2021-07-21</th>\n",
       "      <td>10.168622</td>\n",
       "    </tr>\n",
       "    <tr>\n",
       "      <th>2021-07-22</th>\n",
       "      <td>10.257021</td>\n",
       "    </tr>\n",
       "    <tr>\n",
       "      <th>2021-07-23</th>\n",
       "      <td>10.381118</td>\n",
       "    </tr>\n",
       "  </tbody>\n",
       "</table>\n",
       "<p>252 rows × 1 columns</p>\n",
       "</div>"
      ],
      "text/plain": [
       "                    0\n",
       "Date                 \n",
       "2020-07-24   3.221974\n",
       "2020-07-27   3.219744\n",
       "2020-07-28   3.184798\n",
       "2020-07-29   3.836752\n",
       "2020-07-30   3.700526\n",
       "...               ...\n",
       "2021-07-19   9.451102\n",
       "2021-07-20   9.972774\n",
       "2021-07-21  10.168622\n",
       "2021-07-22  10.257021\n",
       "2021-07-23  10.381118\n",
       "\n",
       "[252 rows x 1 columns]"
      ]
     },
     "execution_count": 227,
     "metadata": {},
     "output_type": "execute_result"
    }
   ],
   "source": [
    "portfolio *  portfolio.iloc[-1, :]"
   ]
  },
  {
   "cell_type": "code",
   "execution_count": 181,
   "id": "dbc1f587",
   "metadata": {},
   "outputs": [
    {
     "data": {
      "text/plain": [
       "Date\n",
       "2020-07-24    29.275611\n",
       "2020-07-27    29.470199\n",
       "2020-07-28    29.030598\n",
       "2020-07-29    32.172587\n",
       "2020-07-30    31.593951\n",
       "                ...    \n",
       "2021-07-19    69.684149\n",
       "2021-07-20    72.749493\n",
       "2021-07-21    74.346141\n",
       "2021-07-22    74.983228\n",
       "2021-07-23    75.578761\n",
       "Length: 252, dtype: float64"
      ]
     },
     "execution_count": 181,
     "metadata": {},
     "output_type": "execute_result"
    }
   ],
   "source": [
    "(dataframe*bestWeights).sum(axis=1)"
   ]
  },
  {
   "cell_type": "code",
   "execution_count": 165,
   "id": "de5f541c",
   "metadata": {},
   "outputs": [
    {
     "data": {
      "text/html": [
       "<div>\n",
       "<style scoped>\n",
       "    .dataframe tbody tr th:only-of-type {\n",
       "        vertical-align: middle;\n",
       "    }\n",
       "\n",
       "    .dataframe tbody tr th {\n",
       "        vertical-align: top;\n",
       "    }\n",
       "\n",
       "    .dataframe thead th {\n",
       "        text-align: right;\n",
       "    }\n",
       "</style>\n",
       "<table border=\"1\" class=\"dataframe\">\n",
       "  <thead>\n",
       "    <tr style=\"text-align: right;\">\n",
       "      <th></th>\n",
       "      <th>0</th>\n",
       "    </tr>\n",
       "  </thead>\n",
       "  <tbody>\n",
       "    <tr>\n",
       "      <th>2020-07-24 00:00:00</th>\n",
       "      <td>NaN</td>\n",
       "    </tr>\n",
       "    <tr>\n",
       "      <th>2020-07-27 00:00:00</th>\n",
       "      <td>NaN</td>\n",
       "    </tr>\n",
       "    <tr>\n",
       "      <th>2020-07-28 00:00:00</th>\n",
       "      <td>NaN</td>\n",
       "    </tr>\n",
       "    <tr>\n",
       "      <th>2020-07-29 00:00:00</th>\n",
       "      <td>NaN</td>\n",
       "    </tr>\n",
       "    <tr>\n",
       "      <th>2020-07-30 00:00:00</th>\n",
       "      <td>NaN</td>\n",
       "    </tr>\n",
       "    <tr>\n",
       "      <th>...</th>\n",
       "      <td>...</td>\n",
       "    </tr>\n",
       "    <tr>\n",
       "      <th>2021-07-20 00:00:00</th>\n",
       "      <td>NaN</td>\n",
       "    </tr>\n",
       "    <tr>\n",
       "      <th>2021-07-21 00:00:00</th>\n",
       "      <td>NaN</td>\n",
       "    </tr>\n",
       "    <tr>\n",
       "      <th>2021-07-22 00:00:00</th>\n",
       "      <td>NaN</td>\n",
       "    </tr>\n",
       "    <tr>\n",
       "      <th>2021-07-23 00:00:00</th>\n",
       "      <td>NaN</td>\n",
       "    </tr>\n",
       "    <tr>\n",
       "      <th>0</th>\n",
       "      <td>NaN</td>\n",
       "    </tr>\n",
       "  </tbody>\n",
       "</table>\n",
       "<p>253 rows × 1 columns</p>\n",
       "</div>"
      ],
      "text/plain": [
       "                      0\n",
       "2020-07-24 00:00:00 NaN\n",
       "2020-07-27 00:00:00 NaN\n",
       "2020-07-28 00:00:00 NaN\n",
       "2020-07-29 00:00:00 NaN\n",
       "2020-07-30 00:00:00 NaN\n",
       "...                  ..\n",
       "2021-07-20 00:00:00 NaN\n",
       "2021-07-21 00:00:00 NaN\n",
       "2021-07-22 00:00:00 NaN\n",
       "2021-07-23 00:00:00 NaN\n",
       "0                   NaN\n",
       "\n",
       "[253 rows x 1 columns]"
      ]
     },
     "execution_count": 165,
     "metadata": {},
     "output_type": "execute_result"
    }
   ],
   "source": [
    "pd.DataFrame((dataframe*bestWeights).sum(axis=1) / (dataframe*bestWeights).sum(axis=1).iloc[0] / portfolio.iloc[-1, :])"
   ]
  },
  {
   "cell_type": "code",
   "execution_count": 241,
   "id": "ebc4306d",
   "metadata": {},
   "outputs": [
    {
     "name": "stdout",
     "output_type": "stream",
     "text": [
      "[*********************100%***********************]  5 of 5 completed\n"
     ]
    },
    {
     "name": "stderr",
     "output_type": "stream",
     "text": [
      "100%|████████████████████| 44/44 [11:17<00:00, 15.40s/it]\n"
     ]
    }
   ],
   "source": [
    "portfolio = backtest(tickers)"
   ]
  },
  {
   "cell_type": "code",
   "execution_count": 1,
   "id": "111b2a21",
   "metadata": {},
   "outputs": [
    {
     "ename": "NameError",
     "evalue": "name 'portfolio' is not defined",
     "output_type": "error",
     "traceback": [
      "\u001b[1;31m---------------------------------------------------------------------------\u001b[0m",
      "\u001b[1;31mNameError\u001b[0m                                 Traceback (most recent call last)",
      "\u001b[1;32mC:\\Users\\SAMAYP~1\\AppData\\Local\\Temp/ipykernel_17460/4037401976.py\u001b[0m in \u001b[0;36m<module>\u001b[1;34m\u001b[0m\n\u001b[1;32m----> 1\u001b[1;33m \u001b[0mportfolio\u001b[0m\u001b[1;33m.\u001b[0m\u001b[0mplot\u001b[0m\u001b[1;33m(\u001b[0m\u001b[0mfigsize\u001b[0m\u001b[1;33m=\u001b[0m\u001b[1;33m(\u001b[0m\u001b[1;36m32\u001b[0m\u001b[1;33m,\u001b[0m \u001b[1;36m16\u001b[0m\u001b[1;33m)\u001b[0m\u001b[1;33m)\u001b[0m\u001b[1;33m\u001b[0m\u001b[1;33m\u001b[0m\u001b[0m\n\u001b[0m",
      "\u001b[1;31mNameError\u001b[0m: name 'portfolio' is not defined"
     ]
    }
   ],
   "source": [
    "portfolio.plot(figsize=(32, 16))"
   ]
  },
  {
   "cell_type": "code",
   "execution_count": 250,
   "id": "53a02696",
   "metadata": {},
   "outputs": [],
   "source": [
    "from quant_risk.statistics.statistics import maximum_drawdown"
   ]
  },
  {
   "cell_type": "code",
   "execution_count": 252,
   "id": "90a3526a",
   "metadata": {},
   "outputs": [],
   "source": [
    "max_draw = maximum_drawdown(portfolio)"
   ]
  },
  {
   "cell_type": "code",
   "execution_count": 255,
   "id": "2d92e388",
   "metadata": {},
   "outputs": [
    {
     "data": {
      "text/plain": [
       "<AxesSubplot:xlabel='Date'>"
      ]
     },
     "execution_count": 255,
     "metadata": {},
     "output_type": "execute_result"
    },
    {
     "data": {
      "image/png": "[encoded data removed]",
      "text/plain": [
       "<Figure size 576x396 with 1 Axes>"
      ]
     },
     "metadata": {},
     "output_type": "display_data"
    }
   ],
   "source": [
    "maximum_drawdown.drawdowns.plot()"
   ]
  },
  {
   "cell_type": "code",
   "execution_count": null,
   "id": "8e3c19d6",
   "metadata": {},
   "outputs": [],
   "source": []
  }
 ],
 "metadata": {
  "kernelspec": {
   "display_name": "Python 3 (ipykernel)",
   "language": "python",
   "name": "python3"
  },
  "language_info": {
   "codemirror_mode": {
    "name": "ipython",
    "version": 3
   },
   "file_extension": ".py",
   "mimetype": "text/x-python",
   "name": "python",
   "nbconvert_exporter": "python",
   "pygments_lexer": "ipython3",
   "version": "3.7.4"
  }
 },
 "nbformat": 4,
 "nbformat_minor": 5
}
