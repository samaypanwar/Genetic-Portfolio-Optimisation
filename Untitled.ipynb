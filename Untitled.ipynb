{
 "cells": [
  {
   "cell_type": "code",
   "execution_count": 1,
   "source": [
    "from GaOpt.genetic import GeneticAlgorithm\r\n",
    "from GaOpt.utils import sharpe, sortino, calmar, hybrid\r\n",
    "import yfinance as yfin\r\n",
    "from quant_risk.statistics.summarize import print_summary\r\n",
    "from GaOpt.portfolio import backtest\r\n",
    "import pandas as pd\r\n",
    "\r\n",
    "%load_ext autoreload\r\n",
    "%autoreload 2\r\n",
    "# %%"
   ],
   "outputs": [],
   "metadata": {}
  },
  {
   "cell_type": "code",
   "execution_count": 2,
   "source": [
    "\r\n",
    "tickers = [\r\n",
    "    'NFLX',\r\n",
    "    'AMZN',\r\n",
    "    # 'GM',\r\n",
    "    'ASML',\r\n",
    "    'NVDA',\r\n",
    "    'IDXX',\r\n",
    "    'EL',\r\n",
    "    # 'BSY',\r\n",
    "    'ENPH',\r\n",
    "    'AVTR',\r\n",
    "    'PYPL',\r\n",
    "    'CHPT',\r\n",
    "    'SQ',\r\n",
    "    'FTNT'\r\n",
    "]\r\n",
    "\r\n",
    "dataframe = yfin.download(tickers, period='1y')['Adj Close']\r\n"
   ],
   "outputs": [
    {
     "output_type": "stream",
     "name": "stdout",
     "text": [
      "[*********************100%***********************]  14 of 14 completed\n"
     ]
    }
   ],
   "metadata": {}
  },
  {
   "cell_type": "code",
   "execution_count": 3,
   "source": [
    "dataframe"
   ],
   "outputs": [
    {
     "output_type": "execute_result",
     "data": {
      "text/plain": [
       "                   AMZN        ASML       AVTR        BSY       CHPT  \\\n",
       "Date                                                                   \n",
       "2020-08-17  3182.409912  375.949921  20.549999        NaN  10.350000   \n",
       "2020-08-18  3312.489990  374.668671  20.860001        NaN  10.300000   \n",
       "2020-08-19  3260.479980  372.404083  20.850000        NaN  10.190000   \n",
       "2020-08-20  3297.370117  369.652832  21.170000        NaN  10.250000   \n",
       "2020-08-21  3284.719971  369.603119  22.350000        NaN  10.200000   \n",
       "...                 ...         ...        ...        ...        ...   \n",
       "2021-08-10  3320.679932  789.289978  38.419998  64.410004  26.020000   \n",
       "2021-08-11  3292.110107  789.219971  37.849998  62.590000  25.059999   \n",
       "2021-08-12  3303.500000  781.070007  38.540001  63.389999  25.180000   \n",
       "2021-08-13  3293.969971  788.960022  38.619999  64.150002  23.990000   \n",
       "2021-08-16  3298.989990  787.349976  39.080002  63.000000  22.549999   \n",
       "\n",
       "                    EL        ENPH        FTNT         GM        IDXX  \\\n",
       "Date                                                                    \n",
       "2020-08-17  212.284897   75.059998  129.160004  30.010000  384.390015   \n",
       "2020-08-18  211.610229   75.160004  129.919998  29.840000  386.649994   \n",
       "2020-08-19  210.826477   75.489998  129.509995  29.219999  381.500000   \n",
       "2020-08-20  196.708542   73.089996  133.589996  28.830000  383.329987   \n",
       "2020-08-21  205.379715   73.139999  131.710007  28.559999  383.459991   \n",
       "...                ...         ...         ...        ...         ...   \n",
       "2021-08-10  327.720001  184.089996  300.399994  54.259998  671.530029   \n",
       "2021-08-11  327.589996  182.289993  298.670013  54.270000  665.320007   \n",
       "2021-08-12  326.779999  181.289993  305.660004  54.619999  675.669983   \n",
       "2021-08-13  326.600006  175.000000  309.329987  53.650002  672.099976   \n",
       "2021-08-16  327.980011  167.539993  302.440002  52.950001  675.479980   \n",
       "\n",
       "                  NFLX        NVDA        PYPL          SQ  \n",
       "Date                                                        \n",
       "2020-08-17  482.350006  123.225883  196.289993  152.479996  \n",
       "2020-08-18  491.869995  122.464279  194.570007  151.039993  \n",
       "2020-08-19  484.529999  121.243210  192.440002  150.369995  \n",
       "2020-08-20  497.899994  121.268181  198.179993  155.860001  \n",
       "2020-08-21  492.309998  126.686844  196.789993  155.100006  \n",
       "...                ...         ...         ...         ...  \n",
       "2021-08-10  515.840027  199.360001  274.369995  273.079987  \n",
       "2021-08-11  512.400024  196.990005  276.410004  271.089996  \n",
       "2021-08-12  510.720001  199.050003  274.589996  268.589996  \n",
       "2021-08-13  515.919983  201.880005  274.910004  267.880005  \n",
       "2021-08-16  517.919983  199.500000  278.279999  263.399994  \n",
       "\n",
       "[252 rows x 14 columns]"
      ],
      "text/html": [
       "<div>\n",
       "<style scoped>\n",
       "    .dataframe tbody tr th:only-of-type {\n",
       "        vertical-align: middle;\n",
       "    }\n",
       "\n",
       "    .dataframe tbody tr th {\n",
       "        vertical-align: top;\n",
       "    }\n",
       "\n",
       "    .dataframe thead th {\n",
       "        text-align: right;\n",
       "    }\n",
       "</style>\n",
       "<table border=\"1\" class=\"dataframe\">\n",
       "  <thead>\n",
       "    <tr style=\"text-align: right;\">\n",
       "      <th></th>\n",
       "      <th>AMZN</th>\n",
       "      <th>ASML</th>\n",
       "      <th>AVTR</th>\n",
       "      <th>BSY</th>\n",
       "      <th>CHPT</th>\n",
       "      <th>EL</th>\n",
       "      <th>ENPH</th>\n",
       "      <th>FTNT</th>\n",
       "      <th>GM</th>\n",
       "      <th>IDXX</th>\n",
       "      <th>NFLX</th>\n",
       "      <th>NVDA</th>\n",
       "      <th>PYPL</th>\n",
       "      <th>SQ</th>\n",
       "    </tr>\n",
       "    <tr>\n",
       "      <th>Date</th>\n",
       "      <th></th>\n",
       "      <th></th>\n",
       "      <th></th>\n",
       "      <th></th>\n",
       "      <th></th>\n",
       "      <th></th>\n",
       "      <th></th>\n",
       "      <th></th>\n",
       "      <th></th>\n",
       "      <th></th>\n",
       "      <th></th>\n",
       "      <th></th>\n",
       "      <th></th>\n",
       "      <th></th>\n",
       "    </tr>\n",
       "  </thead>\n",
       "  <tbody>\n",
       "    <tr>\n",
       "      <th>2020-08-17</th>\n",
       "      <td>3182.409912</td>\n",
       "      <td>375.949921</td>\n",
       "      <td>20.549999</td>\n",
       "      <td>NaN</td>\n",
       "      <td>10.350000</td>\n",
       "      <td>212.284897</td>\n",
       "      <td>75.059998</td>\n",
       "      <td>129.160004</td>\n",
       "      <td>30.010000</td>\n",
       "      <td>384.390015</td>\n",
       "      <td>482.350006</td>\n",
       "      <td>123.225883</td>\n",
       "      <td>196.289993</td>\n",
       "      <td>152.479996</td>\n",
       "    </tr>\n",
       "    <tr>\n",
       "      <th>2020-08-18</th>\n",
       "      <td>3312.489990</td>\n",
       "      <td>374.668671</td>\n",
       "      <td>20.860001</td>\n",
       "      <td>NaN</td>\n",
       "      <td>10.300000</td>\n",
       "      <td>211.610229</td>\n",
       "      <td>75.160004</td>\n",
       "      <td>129.919998</td>\n",
       "      <td>29.840000</td>\n",
       "      <td>386.649994</td>\n",
       "      <td>491.869995</td>\n",
       "      <td>122.464279</td>\n",
       "      <td>194.570007</td>\n",
       "      <td>151.039993</td>\n",
       "    </tr>\n",
       "    <tr>\n",
       "      <th>2020-08-19</th>\n",
       "      <td>3260.479980</td>\n",
       "      <td>372.404083</td>\n",
       "      <td>20.850000</td>\n",
       "      <td>NaN</td>\n",
       "      <td>10.190000</td>\n",
       "      <td>210.826477</td>\n",
       "      <td>75.489998</td>\n",
       "      <td>129.509995</td>\n",
       "      <td>29.219999</td>\n",
       "      <td>381.500000</td>\n",
       "      <td>484.529999</td>\n",
       "      <td>121.243210</td>\n",
       "      <td>192.440002</td>\n",
       "      <td>150.369995</td>\n",
       "    </tr>\n",
       "    <tr>\n",
       "      <th>2020-08-20</th>\n",
       "      <td>3297.370117</td>\n",
       "      <td>369.652832</td>\n",
       "      <td>21.170000</td>\n",
       "      <td>NaN</td>\n",
       "      <td>10.250000</td>\n",
       "      <td>196.708542</td>\n",
       "      <td>73.089996</td>\n",
       "      <td>133.589996</td>\n",
       "      <td>28.830000</td>\n",
       "      <td>383.329987</td>\n",
       "      <td>497.899994</td>\n",
       "      <td>121.268181</td>\n",
       "      <td>198.179993</td>\n",
       "      <td>155.860001</td>\n",
       "    </tr>\n",
       "    <tr>\n",
       "      <th>2020-08-21</th>\n",
       "      <td>3284.719971</td>\n",
       "      <td>369.603119</td>\n",
       "      <td>22.350000</td>\n",
       "      <td>NaN</td>\n",
       "      <td>10.200000</td>\n",
       "      <td>205.379715</td>\n",
       "      <td>73.139999</td>\n",
       "      <td>131.710007</td>\n",
       "      <td>28.559999</td>\n",
       "      <td>383.459991</td>\n",
       "      <td>492.309998</td>\n",
       "      <td>126.686844</td>\n",
       "      <td>196.789993</td>\n",
       "      <td>155.100006</td>\n",
       "    </tr>\n",
       "    <tr>\n",
       "      <th>...</th>\n",
       "      <td>...</td>\n",
       "      <td>...</td>\n",
       "      <td>...</td>\n",
       "      <td>...</td>\n",
       "      <td>...</td>\n",
       "      <td>...</td>\n",
       "      <td>...</td>\n",
       "      <td>...</td>\n",
       "      <td>...</td>\n",
       "      <td>...</td>\n",
       "      <td>...</td>\n",
       "      <td>...</td>\n",
       "      <td>...</td>\n",
       "      <td>...</td>\n",
       "    </tr>\n",
       "    <tr>\n",
       "      <th>2021-08-10</th>\n",
       "      <td>3320.679932</td>\n",
       "      <td>789.289978</td>\n",
       "      <td>38.419998</td>\n",
       "      <td>64.410004</td>\n",
       "      <td>26.020000</td>\n",
       "      <td>327.720001</td>\n",
       "      <td>184.089996</td>\n",
       "      <td>300.399994</td>\n",
       "      <td>54.259998</td>\n",
       "      <td>671.530029</td>\n",
       "      <td>515.840027</td>\n",
       "      <td>199.360001</td>\n",
       "      <td>274.369995</td>\n",
       "      <td>273.079987</td>\n",
       "    </tr>\n",
       "    <tr>\n",
       "      <th>2021-08-11</th>\n",
       "      <td>3292.110107</td>\n",
       "      <td>789.219971</td>\n",
       "      <td>37.849998</td>\n",
       "      <td>62.590000</td>\n",
       "      <td>25.059999</td>\n",
       "      <td>327.589996</td>\n",
       "      <td>182.289993</td>\n",
       "      <td>298.670013</td>\n",
       "      <td>54.270000</td>\n",
       "      <td>665.320007</td>\n",
       "      <td>512.400024</td>\n",
       "      <td>196.990005</td>\n",
       "      <td>276.410004</td>\n",
       "      <td>271.089996</td>\n",
       "    </tr>\n",
       "    <tr>\n",
       "      <th>2021-08-12</th>\n",
       "      <td>3303.500000</td>\n",
       "      <td>781.070007</td>\n",
       "      <td>38.540001</td>\n",
       "      <td>63.389999</td>\n",
       "      <td>25.180000</td>\n",
       "      <td>326.779999</td>\n",
       "      <td>181.289993</td>\n",
       "      <td>305.660004</td>\n",
       "      <td>54.619999</td>\n",
       "      <td>675.669983</td>\n",
       "      <td>510.720001</td>\n",
       "      <td>199.050003</td>\n",
       "      <td>274.589996</td>\n",
       "      <td>268.589996</td>\n",
       "    </tr>\n",
       "    <tr>\n",
       "      <th>2021-08-13</th>\n",
       "      <td>3293.969971</td>\n",
       "      <td>788.960022</td>\n",
       "      <td>38.619999</td>\n",
       "      <td>64.150002</td>\n",
       "      <td>23.990000</td>\n",
       "      <td>326.600006</td>\n",
       "      <td>175.000000</td>\n",
       "      <td>309.329987</td>\n",
       "      <td>53.650002</td>\n",
       "      <td>672.099976</td>\n",
       "      <td>515.919983</td>\n",
       "      <td>201.880005</td>\n",
       "      <td>274.910004</td>\n",
       "      <td>267.880005</td>\n",
       "    </tr>\n",
       "    <tr>\n",
       "      <th>2021-08-16</th>\n",
       "      <td>3298.989990</td>\n",
       "      <td>787.349976</td>\n",
       "      <td>39.080002</td>\n",
       "      <td>63.000000</td>\n",
       "      <td>22.549999</td>\n",
       "      <td>327.980011</td>\n",
       "      <td>167.539993</td>\n",
       "      <td>302.440002</td>\n",
       "      <td>52.950001</td>\n",
       "      <td>675.479980</td>\n",
       "      <td>517.919983</td>\n",
       "      <td>199.500000</td>\n",
       "      <td>278.279999</td>\n",
       "      <td>263.399994</td>\n",
       "    </tr>\n",
       "  </tbody>\n",
       "</table>\n",
       "<p>252 rows × 14 columns</p>\n",
       "</div>"
      ]
     },
     "metadata": {},
     "execution_count": 3
    }
   ],
   "metadata": {}
  },
  {
   "cell_type": "code",
   "execution_count": 4,
   "source": [
    "\r\n",
    "GA = GeneticAlgorithm(hybrid, dataframe, longOnly=True)\r\n",
    "bestWeights = GA.evolution(verbose=True)\r\n"
   ],
   "outputs": [
    {
     "output_type": "stream",
     "name": "stdout",
     "text": [
      "\n",
      "---Generation 1 has begun----\n",
      "\n",
      "-- generation 1, New best fitness score: 1.4516063312625507\n",
      "-- generation 1, New best fitness score: 1.5151735681388518\n",
      "-- generation 1, New best fitness score: 1.63483748185631\n",
      "-- generation 1, New best fitness score: 1.8424881648313474\n",
      "\n",
      "---Generation 2 has begun----\n",
      "\n",
      "-- generation 2, New best fitness score: 2.1279915431725773\n",
      "\n",
      "---Generation 3 has begun----\n",
      "\n",
      "-- generation 3, New best fitness score: 2.2378128372173136\n",
      "-- generation 3, New best fitness score: 2.252586600437187\n",
      "-- generation 3, New best fitness score: 2.3482535766882773\n",
      "\n",
      "---Generation 4 has begun----\n",
      "\n",
      "\n",
      "---Generation 5 has begun----\n",
      "\n",
      "-- generation 5, New best fitness score: 2.437896936057707\n"
     ]
    }
   ],
   "metadata": {}
  },
  {
   "cell_type": "code",
   "execution_count": 5,
   "source": [
    "print(bestWeights)"
   ],
   "outputs": [
    {
     "output_type": "stream",
     "name": "stdout",
     "text": [
      "[6.38750937e-04 2.11285696e-02 3.38123725e-01 2.33132909e-03\n",
      " 4.44775098e-03 5.02185093e-03 5.53056542e-03 1.54488941e-01\n",
      " 4.41120193e-01 2.25901459e-02 1.38970484e-04 2.95871462e-04\n",
      " 4.17263251e-04 3.72607258e-03]\n"
     ]
    }
   ],
   "metadata": {}
  },
  {
   "cell_type": "code",
   "execution_count": 6,
   "source": [
    "sum(bestWeights)"
   ],
   "outputs": [
    {
     "output_type": "execute_result",
     "data": {
      "text/plain": [
       "0.9999999999999999"
      ]
     },
     "metadata": {},
     "execution_count": 6
    }
   ],
   "metadata": {}
  },
  {
   "cell_type": "code",
   "execution_count": 7,
   "source": [
    "print_summary(pd.DataFrame((dataframe*bestWeights).sum(axis=1)))"
   ],
   "outputs": [
    {
     "output_type": "execute_result",
     "data": {
      "text/plain": [
       "                                   0\n",
       "sharpe_ratio                4.274678\n",
       "calmar_ratio              -10.741515\n",
       "omega_ratio                 1.663288\n",
       "sortino_ratio               4.679215\n",
       "tail_ratio                  1.145332\n",
       "annualised_returns          0.992101\n",
       "annualised_volatility       0.232088\n",
       "calculate_skewness          0.118056\n",
       "calculate_kurtosis         -1.144949\n",
       "is_stable                   0.976113\n",
       "maximum_drawdown           -0.092361\n",
       "cumulative_returns          0.986661\n",
       "conditional_value_at_risk  -0.033721\n",
       "value_at_risk              -0.021913"
      ],
      "text/html": [
       "<div>\n",
       "<style scoped>\n",
       "    .dataframe tbody tr th:only-of-type {\n",
       "        vertical-align: middle;\n",
       "    }\n",
       "\n",
       "    .dataframe tbody tr th {\n",
       "        vertical-align: top;\n",
       "    }\n",
       "\n",
       "    .dataframe thead th {\n",
       "        text-align: right;\n",
       "    }\n",
       "</style>\n",
       "<table border=\"1\" class=\"dataframe\">\n",
       "  <thead>\n",
       "    <tr style=\"text-align: right;\">\n",
       "      <th></th>\n",
       "      <th>0</th>\n",
       "    </tr>\n",
       "  </thead>\n",
       "  <tbody>\n",
       "    <tr>\n",
       "      <th>sharpe_ratio</th>\n",
       "      <td>4.274678</td>\n",
       "    </tr>\n",
       "    <tr>\n",
       "      <th>calmar_ratio</th>\n",
       "      <td>-10.741515</td>\n",
       "    </tr>\n",
       "    <tr>\n",
       "      <th>omega_ratio</th>\n",
       "      <td>1.663288</td>\n",
       "    </tr>\n",
       "    <tr>\n",
       "      <th>sortino_ratio</th>\n",
       "      <td>4.679215</td>\n",
       "    </tr>\n",
       "    <tr>\n",
       "      <th>tail_ratio</th>\n",
       "      <td>1.145332</td>\n",
       "    </tr>\n",
       "    <tr>\n",
       "      <th>annualised_returns</th>\n",
       "      <td>0.992101</td>\n",
       "    </tr>\n",
       "    <tr>\n",
       "      <th>annualised_volatility</th>\n",
       "      <td>0.232088</td>\n",
       "    </tr>\n",
       "    <tr>\n",
       "      <th>calculate_skewness</th>\n",
       "      <td>0.118056</td>\n",
       "    </tr>\n",
       "    <tr>\n",
       "      <th>calculate_kurtosis</th>\n",
       "      <td>-1.144949</td>\n",
       "    </tr>\n",
       "    <tr>\n",
       "      <th>is_stable</th>\n",
       "      <td>0.976113</td>\n",
       "    </tr>\n",
       "    <tr>\n",
       "      <th>maximum_drawdown</th>\n",
       "      <td>-0.092361</td>\n",
       "    </tr>\n",
       "    <tr>\n",
       "      <th>cumulative_returns</th>\n",
       "      <td>0.986661</td>\n",
       "    </tr>\n",
       "    <tr>\n",
       "      <th>conditional_value_at_risk</th>\n",
       "      <td>-0.033721</td>\n",
       "    </tr>\n",
       "    <tr>\n",
       "      <th>value_at_risk</th>\n",
       "      <td>-0.021913</td>\n",
       "    </tr>\n",
       "  </tbody>\n",
       "</table>\n",
       "</div>"
      ]
     },
     "metadata": {},
     "execution_count": 7
    }
   ],
   "metadata": {}
  },
  {
   "cell_type": "code",
   "execution_count": 8,
   "source": [
    "portfolioAll = pd.DataFrame((dataframe*bestWeights).sum(axis=1) / (dataframe*bestWeights).sum(axis=1).iloc[0])\r\n",
    "portfolioAll.plot()"
   ],
   "outputs": [
    {
     "output_type": "execute_result",
     "data": {
      "text/plain": [
       "<AxesSubplot:xlabel='Date'>"
      ]
     },
     "metadata": {},
     "execution_count": 8
    },
    {
     "output_type": "display_data",
     "data": {
      "text/plain": [
       "<Figure size 576x396 with 1 Axes>"
      ],
      "image/png": "[encoded data removed]"
     },
     "metadata": {}
    }
   ],
   "metadata": {
    "scrolled": false
   }
  },
  {
   "cell_type": "code",
   "execution_count": 12,
   "source": [
    "portfolio = backtest(tickers)"
   ],
   "outputs": [
    {
     "output_type": "stream",
     "name": "stdout",
     "text": [
      "[*********************100%***********************]  14 of 14 completed\n"
     ]
    },
    {
     "output_type": "stream",
     "name": "stderr",
     "text": [
      " 50%|██████████████████                  | 1/2 [00:24<00:24, 24.21s/it]"
     ]
    },
    {
     "output_type": "stream",
     "name": "stdout",
     "text": [
      "[2.04079151e-04 3.45012484e-02 4.42688542e-04 2.08715373e-01\n",
      " 4.12956515e-02 2.04096334e-01 1.34049785e-01 7.87955864e-02\n",
      " 2.71722297e-01 9.48682806e-03 2.06127558e-03 2.79960754e-03\n",
      " 1.06553833e-02 1.17386293e-03]\n"
     ]
    },
    {
     "output_type": "stream",
     "name": "stderr",
     "text": [
      "100%|████████████████████████████████████| 2/2 [00:50<00:00, 25.24s/it]"
     ]
    },
    {
     "output_type": "stream",
     "name": "stdout",
     "text": [
      "[3.55067994e-05 1.70642221e-01 1.45185922e-03 2.87962001e-01\n",
      " 6.02210365e-02 6.63156487e-02 3.27534752e-02 9.73176414e-03\n",
      " 3.60036770e-01 2.77012530e-03 6.11342355e-04 4.07390230e-03\n",
      " 1.54445902e-03 1.84988831e-03]\n"
     ]
    },
    {
     "output_type": "stream",
     "name": "stderr",
     "text": [
      "\n"
     ]
    }
   ],
   "metadata": {}
  },
  {
   "cell_type": "code",
   "execution_count": 13,
   "source": [
    "portfolio.plot()"
   ],
   "outputs": [
    {
     "output_type": "execute_result",
     "data": {
      "text/plain": [
       "<AxesSubplot:xlabel='Date'>"
      ]
     },
     "metadata": {},
     "execution_count": 13
    },
    {
     "output_type": "display_data",
     "data": {
      "text/plain": [
       "<Figure size 576x396 with 1 Axes>"
      ],
      "image/png": "[encoded data removed]"
     },
     "metadata": {}
    }
   ],
   "metadata": {}
  },
  {
   "cell_type": "code",
   "execution_count": 14,
   "source": [
    "from quant_risk.statistics.statistics import maximum_drawdown"
   ],
   "outputs": [],
   "metadata": {}
  },
  {
   "cell_type": "code",
   "execution_count": 15,
   "source": [
    "max_draw = maximum_drawdown(portfolio)"
   ],
   "outputs": [],
   "metadata": {}
  },
  {
   "cell_type": "code",
   "execution_count": 16,
   "source": [
    "maximum_drawdown.drawdowns.plot()"
   ],
   "outputs": [
    {
     "output_type": "execute_result",
     "data": {
      "text/plain": [
       "<AxesSubplot:xlabel='Date'>"
      ]
     },
     "metadata": {},
     "execution_count": 16
    },
    {
     "output_type": "display_data",
     "data": {
      "text/plain": [
       "<Figure size 576x396 with 1 Axes>"
      ],
      "image/png": "[encoded data removed]"
     },
     "metadata": {}
    }
   ],
   "metadata": {}
  },
  {
   "cell_type": "code",
   "execution_count": 17,
   "source": [
    "print_summary(portfolio)"
   ],
   "outputs": [
    {
     "output_type": "execute_result",
     "data": {
      "text/plain": [
       "                           Portfolio\n",
       "sharpe_ratio                2.059946\n",
       "calmar_ratio               -5.253085\n",
       "omega_ratio                 1.327994\n",
       "sortino_ratio               2.572772\n",
       "tail_ratio                  0.900127\n",
       "annualised_returns          0.604246\n",
       "annualised_volatility       0.293331\n",
       "calculate_skewness          0.180219\n",
       "calculate_kurtosis         -0.696805\n",
       "is_stable                   0.775286\n",
       "maximum_drawdown           -0.115027\n",
       "cumulative_returns          0.264215\n",
       "conditional_value_at_risk  -0.037564\n",
       "value_at_risk              -0.032132"
      ],
      "text/html": [
       "<div>\n",
       "<style scoped>\n",
       "    .dataframe tbody tr th:only-of-type {\n",
       "        vertical-align: middle;\n",
       "    }\n",
       "\n",
       "    .dataframe tbody tr th {\n",
       "        vertical-align: top;\n",
       "    }\n",
       "\n",
       "    .dataframe thead th {\n",
       "        text-align: right;\n",
       "    }\n",
       "</style>\n",
       "<table border=\"1\" class=\"dataframe\">\n",
       "  <thead>\n",
       "    <tr style=\"text-align: right;\">\n",
       "      <th></th>\n",
       "      <th>Portfolio</th>\n",
       "    </tr>\n",
       "  </thead>\n",
       "  <tbody>\n",
       "    <tr>\n",
       "      <th>sharpe_ratio</th>\n",
       "      <td>2.059946</td>\n",
       "    </tr>\n",
       "    <tr>\n",
       "      <th>calmar_ratio</th>\n",
       "      <td>-5.253085</td>\n",
       "    </tr>\n",
       "    <tr>\n",
       "      <th>omega_ratio</th>\n",
       "      <td>1.327994</td>\n",
       "    </tr>\n",
       "    <tr>\n",
       "      <th>sortino_ratio</th>\n",
       "      <td>2.572772</td>\n",
       "    </tr>\n",
       "    <tr>\n",
       "      <th>tail_ratio</th>\n",
       "      <td>0.900127</td>\n",
       "    </tr>\n",
       "    <tr>\n",
       "      <th>annualised_returns</th>\n",
       "      <td>0.604246</td>\n",
       "    </tr>\n",
       "    <tr>\n",
       "      <th>annualised_volatility</th>\n",
       "      <td>0.293331</td>\n",
       "    </tr>\n",
       "    <tr>\n",
       "      <th>calculate_skewness</th>\n",
       "      <td>0.180219</td>\n",
       "    </tr>\n",
       "    <tr>\n",
       "      <th>calculate_kurtosis</th>\n",
       "      <td>-0.696805</td>\n",
       "    </tr>\n",
       "    <tr>\n",
       "      <th>is_stable</th>\n",
       "      <td>0.775286</td>\n",
       "    </tr>\n",
       "    <tr>\n",
       "      <th>maximum_drawdown</th>\n",
       "      <td>-0.115027</td>\n",
       "    </tr>\n",
       "    <tr>\n",
       "      <th>cumulative_returns</th>\n",
       "      <td>0.264215</td>\n",
       "    </tr>\n",
       "    <tr>\n",
       "      <th>conditional_value_at_risk</th>\n",
       "      <td>-0.037564</td>\n",
       "    </tr>\n",
       "    <tr>\n",
       "      <th>value_at_risk</th>\n",
       "      <td>-0.032132</td>\n",
       "    </tr>\n",
       "  </tbody>\n",
       "</table>\n",
       "</div>"
      ]
     },
     "metadata": {},
     "execution_count": 17
    }
   ],
   "metadata": {}
  },
  {
   "cell_type": "code",
   "execution_count": 18,
   "source": [
    "backtest.weights"
   ],
   "outputs": [
    {
     "output_type": "execute_result",
     "data": {
      "text/plain": [
       "                AMZN      ASML      AVTR       BSY      CHPT        EL  \\\n",
       "2021-03-31  0.000204  0.034501  0.000443  0.208715  0.041296  0.204096   \n",
       "2021-06-30  0.000036  0.170642  0.001452  0.287962  0.060221  0.066316   \n",
       "\n",
       "                ENPH      FTNT        GM      IDXX      NFLX      NVDA  \\\n",
       "2021-03-31  0.134050  0.078796  0.271722  0.009487  0.002061  0.002800   \n",
       "2021-06-30  0.032753  0.009732  0.360037  0.002770  0.000611  0.004074   \n",
       "\n",
       "                PYPL        SQ  \n",
       "2021-03-31  0.010655  0.001174  \n",
       "2021-06-30  0.001544  0.001850  "
      ],
      "text/html": [
       "<div>\n",
       "<style scoped>\n",
       "    .dataframe tbody tr th:only-of-type {\n",
       "        vertical-align: middle;\n",
       "    }\n",
       "\n",
       "    .dataframe tbody tr th {\n",
       "        vertical-align: top;\n",
       "    }\n",
       "\n",
       "    .dataframe thead th {\n",
       "        text-align: right;\n",
       "    }\n",
       "</style>\n",
       "<table border=\"1\" class=\"dataframe\">\n",
       "  <thead>\n",
       "    <tr style=\"text-align: right;\">\n",
       "      <th></th>\n",
       "      <th>AMZN</th>\n",
       "      <th>ASML</th>\n",
       "      <th>AVTR</th>\n",
       "      <th>BSY</th>\n",
       "      <th>CHPT</th>\n",
       "      <th>EL</th>\n",
       "      <th>ENPH</th>\n",
       "      <th>FTNT</th>\n",
       "      <th>GM</th>\n",
       "      <th>IDXX</th>\n",
       "      <th>NFLX</th>\n",
       "      <th>NVDA</th>\n",
       "      <th>PYPL</th>\n",
       "      <th>SQ</th>\n",
       "    </tr>\n",
       "  </thead>\n",
       "  <tbody>\n",
       "    <tr>\n",
       "      <th>2021-03-31</th>\n",
       "      <td>0.000204</td>\n",
       "      <td>0.034501</td>\n",
       "      <td>0.000443</td>\n",
       "      <td>0.208715</td>\n",
       "      <td>0.041296</td>\n",
       "      <td>0.204096</td>\n",
       "      <td>0.134050</td>\n",
       "      <td>0.078796</td>\n",
       "      <td>0.271722</td>\n",
       "      <td>0.009487</td>\n",
       "      <td>0.002061</td>\n",
       "      <td>0.002800</td>\n",
       "      <td>0.010655</td>\n",
       "      <td>0.001174</td>\n",
       "    </tr>\n",
       "    <tr>\n",
       "      <th>2021-06-30</th>\n",
       "      <td>0.000036</td>\n",
       "      <td>0.170642</td>\n",
       "      <td>0.001452</td>\n",
       "      <td>0.287962</td>\n",
       "      <td>0.060221</td>\n",
       "      <td>0.066316</td>\n",
       "      <td>0.032753</td>\n",
       "      <td>0.009732</td>\n",
       "      <td>0.360037</td>\n",
       "      <td>0.002770</td>\n",
       "      <td>0.000611</td>\n",
       "      <td>0.004074</td>\n",
       "      <td>0.001544</td>\n",
       "      <td>0.001850</td>\n",
       "    </tr>\n",
       "  </tbody>\n",
       "</table>\n",
       "</div>"
      ]
     },
     "metadata": {},
     "execution_count": 18
    }
   ],
   "metadata": {}
  },
  {
   "cell_type": "code",
   "execution_count": 19,
   "source": [
    "36 + 6 + 17+28+7"
   ],
   "outputs": [
    {
     "output_type": "execute_result",
     "data": {
      "text/plain": [
       "94"
      ]
     },
     "metadata": {},
     "execution_count": 19
    }
   ],
   "metadata": {}
  },
  {
   "cell_type": "code",
   "execution_count": null,
   "source": [],
   "outputs": [],
   "metadata": {}
  }
 ],
 "metadata": {
  "kernelspec": {
   "name": "python3",
   "display_name": "Python 3.7.4 32-bit ('Genetic-Portfolio-Optimisation-B1fbP9zX': pipenv)"
  },
  "language_info": {
   "codemirror_mode": {
    "name": "ipython",
    "version": 3
   },
   "file_extension": ".py",
   "mimetype": "text/x-python",
   "name": "python",
   "nbconvert_exporter": "python",
   "pygments_lexer": "ipython3",
   "version": "3.7.4"
  },
  "interpreter": {
   "hash": "476ac534bc53ca30fe30a468ce69a8c1f1f84fb90cc3781ff41d49b4bb2680f0"
  }
 },
 "nbformat": 4,
 "nbformat_minor": 5
}